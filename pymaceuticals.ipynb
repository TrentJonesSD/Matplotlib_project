{
 "cells": [
  {
   "cell_type": "code",
   "execution_count": 2,
   "metadata": {},
   "outputs": [],
   "source": [
    "# Dependencies and Setup\n",
    "%matplotlib inline\n",
    "import matplotlib.pyplot as plt\n",
    "import pandas as pd\n",
    "import numpy as np\n",
    "\n",
    "# Hide warning messages in notebook\n",
    "import warnings\n",
    "warnings.filterwarnings('ignore')"
   ]
  },
  {
   "cell_type": "code",
   "execution_count": 3,
   "metadata": {},
   "outputs": [],
   "source": [
    "# File to Load \n",
    "mouse_drug_data = \"data_mouse_drug/mouse_drug_data.csv\"\n",
    "clinical_trial_data = \"data_mouse_drug/clinicaltrial_data.csv\"\n",
    "# Read the Mouse and Drug Data and the Clinical Trial Data\n",
    "mouse_drug_df = pd.read_csv(mouse_drug_data)\n",
    "clinicaltrial_df = pd.read_csv(clinical_trial_data)\n",
    "# mouse_drug_df.head()\n",
    "# clinicaltrial_df.head()"
   ]
  },
  {
   "cell_type": "code",
   "execution_count": 4,
   "metadata": {},
   "outputs": [
    {
     "data": {
      "text/html": [
       "<div>\n",
       "<style scoped>\n",
       "    .dataframe tbody tr th:only-of-type {\n",
       "        vertical-align: middle;\n",
       "    }\n",
       "\n",
       "    .dataframe tbody tr th {\n",
       "        vertical-align: top;\n",
       "    }\n",
       "\n",
       "    .dataframe thead th {\n",
       "        text-align: right;\n",
       "    }\n",
       "</style>\n",
       "<table border=\"1\" class=\"dataframe\">\n",
       "  <thead>\n",
       "    <tr style=\"text-align: right;\">\n",
       "      <th></th>\n",
       "      <th>Mouse ID</th>\n",
       "      <th>Timepoint</th>\n",
       "      <th>Tumor Volume (mm3)</th>\n",
       "      <th>Metastatic Sites</th>\n",
       "      <th>Drug</th>\n",
       "    </tr>\n",
       "  </thead>\n",
       "  <tbody>\n",
       "    <tr>\n",
       "      <th>0</th>\n",
       "      <td>b128</td>\n",
       "      <td>0</td>\n",
       "      <td>45.000000</td>\n",
       "      <td>0</td>\n",
       "      <td>Capomulin</td>\n",
       "    </tr>\n",
       "    <tr>\n",
       "      <th>1</th>\n",
       "      <td>f932</td>\n",
       "      <td>0</td>\n",
       "      <td>45.000000</td>\n",
       "      <td>0</td>\n",
       "      <td>Ketapril</td>\n",
       "    </tr>\n",
       "    <tr>\n",
       "      <th>2</th>\n",
       "      <td>g107</td>\n",
       "      <td>0</td>\n",
       "      <td>45.000000</td>\n",
       "      <td>0</td>\n",
       "      <td>Ketapril</td>\n",
       "    </tr>\n",
       "    <tr>\n",
       "      <th>3</th>\n",
       "      <td>a457</td>\n",
       "      <td>0</td>\n",
       "      <td>45.000000</td>\n",
       "      <td>0</td>\n",
       "      <td>Ketapril</td>\n",
       "    </tr>\n",
       "    <tr>\n",
       "      <th>4</th>\n",
       "      <td>c819</td>\n",
       "      <td>0</td>\n",
       "      <td>45.000000</td>\n",
       "      <td>0</td>\n",
       "      <td>Ketapril</td>\n",
       "    </tr>\n",
       "    <tr>\n",
       "      <th>...</th>\n",
       "      <td>...</td>\n",
       "      <td>...</td>\n",
       "      <td>...</td>\n",
       "      <td>...</td>\n",
       "      <td>...</td>\n",
       "    </tr>\n",
       "    <tr>\n",
       "      <th>1901</th>\n",
       "      <td>r944</td>\n",
       "      <td>45</td>\n",
       "      <td>41.581521</td>\n",
       "      <td>2</td>\n",
       "      <td>Capomulin</td>\n",
       "    </tr>\n",
       "    <tr>\n",
       "      <th>1902</th>\n",
       "      <td>u364</td>\n",
       "      <td>45</td>\n",
       "      <td>31.023923</td>\n",
       "      <td>3</td>\n",
       "      <td>Capomulin</td>\n",
       "    </tr>\n",
       "    <tr>\n",
       "      <th>1903</th>\n",
       "      <td>p438</td>\n",
       "      <td>45</td>\n",
       "      <td>61.433892</td>\n",
       "      <td>1</td>\n",
       "      <td>Ceftamin</td>\n",
       "    </tr>\n",
       "    <tr>\n",
       "      <th>1904</th>\n",
       "      <td>x773</td>\n",
       "      <td>45</td>\n",
       "      <td>58.634971</td>\n",
       "      <td>4</td>\n",
       "      <td>Placebo</td>\n",
       "    </tr>\n",
       "    <tr>\n",
       "      <th>1905</th>\n",
       "      <td>b879</td>\n",
       "      <td>45</td>\n",
       "      <td>72.555239</td>\n",
       "      <td>2</td>\n",
       "      <td>Stelasyn</td>\n",
       "    </tr>\n",
       "  </tbody>\n",
       "</table>\n",
       "<p>1906 rows × 5 columns</p>\n",
       "</div>"
      ],
      "text/plain": [
       "     Mouse ID  Timepoint  Tumor Volume (mm3)  Metastatic Sites       Drug\n",
       "0        b128          0           45.000000                 0  Capomulin\n",
       "1        f932          0           45.000000                 0   Ketapril\n",
       "2        g107          0           45.000000                 0   Ketapril\n",
       "3        a457          0           45.000000                 0   Ketapril\n",
       "4        c819          0           45.000000                 0   Ketapril\n",
       "...       ...        ...                 ...               ...        ...\n",
       "1901     r944         45           41.581521                 2  Capomulin\n",
       "1902     u364         45           31.023923                 3  Capomulin\n",
       "1903     p438         45           61.433892                 1   Ceftamin\n",
       "1904     x773         45           58.634971                 4    Placebo\n",
       "1905     b879         45           72.555239                 2   Stelasyn\n",
       "\n",
       "[1906 rows x 5 columns]"
      ]
     },
     "execution_count": 4,
     "metadata": {},
     "output_type": "execute_result"
    }
   ],
   "source": [
    "# Combine the data into a single dataset\n",
    "mouse_df = pd.merge(clinicaltrial_df,mouse_drug_df, how = \"left\", on = [\"Mouse ID\",\"Mouse ID\"])\n",
    "mouse_df"
   ]
  },
  {
   "cell_type": "markdown",
   "metadata": {},
   "source": [
    "## Tumor Response to Treatment"
   ]
  },
  {
   "cell_type": "code",
   "execution_count": 5,
   "metadata": {},
   "outputs": [],
   "source": [
    "# Store the Mean Tumor Volume Data Grouped by Drug and Timepoint \n",
    "mean_tumor = mouse_df.groupby(['Drug','Timepoint']).mean()['Tumor Volume (mm3)']\n",
    "sem_tumor = mouse_df.groupby(['Drug','Timepoint']).sem()['Tumor Volume (mm3)']\n",
    "\n",
    "# Convert to DataFrame\n",
    "mean_tumor = pd.DataFrame(mean_tumor)\n",
    "mean_tumor = mean_tumor.reset_index()\n",
    "sem_tumor = pd.DataFrame(sem_tumor)\n",
    "sem_tumor = sem_tumor.reset_index()\n",
    "\n",
    "# Preview DataFrame\n",
    "mean_tumor_pivot = mean_tumor.pivot(index='Timepoint', columns='Drug')[\"Tumor Volume (mm3)\"]\n",
    "sem_tumor_pivot = sem_tumor.pivot(index='Timepoint', columns='Drug')[\"Tumor Volume (mm3)\"]\n",
    "# sem_tumor_pivot"
   ]
  },
  {
   "cell_type": "code",
   "execution_count": 6,
   "metadata": {},
   "outputs": [
    {
     "data": {
      "text/plain": [
       "<matplotlib.legend.Legend at 0x118465b70>"
      ]
     },
     "execution_count": 6,
     "metadata": {},
     "output_type": "execute_result"
    },
    {
     "data": {
      "image/png": "[encoded data removed]",
      "text/plain": [
       "<Figure size 432x288 with 1 Axes>"
      ]
     },
     "metadata": {
      "needs_background": "light"
     },
     "output_type": "display_data"
    }
   ],
   "source": [
    "plt.title(\"Tumor Response to Treatment\")\n",
    "plt.xlabel(\"Timepoint\")\n",
    "plt.ylabel(\"Tumor Volume\")\n",
    "plt.errorbar(mean_tumor_pivot.index,mean_tumor_pivot[\"Capomulin\"],yerr=sem_tumor_pivot[\"Capomulin\"], color=\"blue\",label=\"Capomulin\")\n",
    "plt.errorbar(mean_tumor_pivot.index,mean_tumor_pivot[\"Infubinol\"],yerr=sem_tumor_pivot[\"Infubinol\"], color=\"red\",label=\"Infubinol\")\n",
    "plt.errorbar(mean_tumor_pivot.index,mean_tumor_pivot[\"Ketapril\"],yerr=sem_tumor_pivot[\"Ketapril\"], color=\"green\",label=\"Ketapril\")\n",
    "plt.errorbar(mean_tumor_pivot.index,mean_tumor_pivot[\"Placebo\"],yerr=sem_tumor_pivot[\"Placebo\"], color=\"orange\",label=\"Placebo\")\n",
    "plt.legend(loc=\"best\")"
   ]
  },
  {
   "cell_type": "code",
   "execution_count": 7,
   "metadata": {},
   "outputs": [],
   "source": [
    "# Save the Figure\n",
    "\n",
    "# Do all the x axis y axis and legend shit"
   ]
  },
  {
   "cell_type": "code",
   "execution_count": 8,
   "metadata": {},
   "outputs": [],
   "source": [
    "# Show the Figure"
   ]
  },
  {
   "cell_type": "markdown",
   "metadata": {},
   "source": [
    "## Metastatic Response to Treatment"
   ]
  },
  {
   "cell_type": "code",
   "execution_count": 9,
   "metadata": {},
   "outputs": [],
   "source": [
    "# Store the Mean Met. Site Data Grouped by Drug and Timepoint \n",
    "mean_meta = mouse_df.groupby(['Drug','Timepoint']).mean()['Metastatic Sites']\n",
    "sem_meta = mouse_df.groupby(['Drug','Timepoint']).sem()['Metastatic Sites']\n",
    "# Convert to DataFrame\n",
    "mean_meta = pd.DataFrame(mean_meta)\n",
    "mean_meta = mean_meta.reset_index()\n",
    "sem_meta = pd.DataFrame(sem_meta)\n",
    "sem_meta = sem_meta.reset_index()\n",
    "# Preview DataFrame\n",
    "mean_meta_pivot = mean_meta.pivot(index='Timepoint', columns='Drug')[\"Metastatic Sites\"]\n",
    "sem_meta_pivot = sem_meta.pivot(index='Timepoint', columns='Drug')[\"Metastatic Sites\"]\n",
    "# sem_meta_pivot"
   ]
  },
  {
   "cell_type": "code",
   "execution_count": 10,
   "metadata": {},
   "outputs": [
    {
     "data": {
      "text/plain": [
       "<matplotlib.legend.Legend at 0x118368e48>"
      ]
     },
     "execution_count": 10,
     "metadata": {},
     "output_type": "execute_result"
    },
    {
     "data": {
      "image/png": "[encoded data removed]",
      "text/plain": [
       "<Figure size 432x288 with 1 Axes>"
      ]
     },
     "metadata": {
      "needs_background": "light"
     },
     "output_type": "display_data"
    }
   ],
   "source": [
    "plt.title(\"Metastatic Response to Treatment\")\n",
    "plt.xlabel(\"Timepoint\")\n",
    "plt.ylabel(\"Metastatic Sites\")\n",
    "# plt.legend(loc=\"best\")\n",
    "plt.errorbar(mean_meta_pivot.index,mean_meta_pivot[\"Capomulin\"],yerr=sem_meta_pivot[\"Capomulin\"], color=\"blue\",label=\"Capomulin\")\n",
    "plt.errorbar(mean_meta_pivot.index,mean_meta_pivot[\"Infubinol\"],yerr=sem_meta_pivot[\"Infubinol\"], color=\"red\",label=\"Infubinol\")\n",
    "plt.errorbar(mean_meta_pivot.index,mean_meta_pivot[\"Ketapril\"],yerr=sem_meta_pivot[\"Ketapril\"], color=\"green\",label=\"Ketapril\")\n",
    "plt.errorbar(mean_meta_pivot.index,mean_meta_pivot[\"Placebo\"],yerr=sem_meta_pivot[\"Placebo\"], color=\"orange\",label=\"Placebo\")\n",
    "plt.legend(loc=\"best\")"
   ]
  },
  {
   "cell_type": "markdown",
   "metadata": {},
   "source": [
    "## Survival Rates"
   ]
  },
  {
   "cell_type": "code",
   "execution_count": 11,
   "metadata": {},
   "outputs": [],
   "source": [
    "# Store the Count of Mice Grouped by Drug and Timepoint (W can pass any metric)\n",
    "survival_count = mouse_df.groupby(['Drug','Timepoint']).count()['Tumor Volume (mm3)']\n",
    "# Convert to DataFrame\n",
    "survival_count = pd.DataFrame(survival_count)\n",
    "survival_count = survival_count.reset_index()\n",
    "survival_count_pivot = survival_count.pivot(index='Timepoint', columns='Drug')[\"Tumor Volume (mm3)\"]\n",
    "# Preview DataFrame\n",
    "# survival_count_pivot\n",
    "survival_rate_c = pd.DataFrame(survival_count_pivot['Capomulin']/25)\n",
    "survival_rate_i = pd.DataFrame(survival_count_pivot['Infubinol']/25)\n",
    "survival_rate_k = pd.DataFrame(survival_count_pivot['Ketapril']/25)\n",
    "survival_rate_p = pd.DataFrame(survival_count_pivot['Placebo']/25)\n",
    "# ,(survival_count_pivot['Infubinol']/25),(survival_count_pivot['Ketapril']/25),(survival_count_pivot['Placebo']/25))\n",
    "# survival_rate_c.append(survival_rate_i)\n",
    "# survival_rate_c"
   ]
  },
  {
   "cell_type": "code",
   "execution_count": 12,
   "metadata": {},
   "outputs": [],
   "source": [
    "survival_rate_ci = pd.merge(survival_rate_c,survival_rate_i, how = \"left\", on = [\"Timepoint\"])\n",
    "survival_rate_cik = pd.merge(survival_rate_ci,survival_rate_k, how = \"left\", on = [\"Timepoint\"])\n",
    "survival_rate_cikp = pd.merge(survival_rate_cik,survival_rate_p, how = \"left\", on = [\"Timepoint\"])\n",
    "# survival_rate_cikp"
   ]
  },
  {
   "cell_type": "code",
   "execution_count": 13,
   "metadata": {},
   "outputs": [
    {
     "data": {
      "text/plain": [
       "<matplotlib.legend.Legend at 0x118797f60>"
      ]
     },
     "execution_count": 13,
     "metadata": {},
     "output_type": "execute_result"
    },
    {
     "data": {
      "image/png": "[encoded data removed]",
      "text/plain": [
       "<Figure size 432x288 with 1 Axes>"
      ]
     },
     "metadata": {
      "needs_background": "light"
     },
     "output_type": "display_data"
    }
   ],
   "source": [
    "plt.title(\"Survival Rate\")\n",
    "plt.xlabel(\"Timepoint\")\n",
    "plt.ylabel(\"Percent Still Alive\")\n",
    "plt.plot(survival_count_pivot['Capomulin']/25, marker=\"o\", color=\"blue\", label='Capomulin')\n",
    "plt.plot(survival_count_pivot['Infubinol']/25, marker=\"o\", color=\"red\", label='Infubinol')\n",
    "plt.plot(survival_count_pivot['Ketapril']/25, marker=\"o\", color=\"green\", label='Ketapril')\n",
    "plt.plot(survival_count_pivot['Placebo']/25, marker=\"o\", color=\"orange\", label='Placebo')\n",
    "plt.legend(loc=\"best\")"
   ]
  },
  {
   "cell_type": "markdown",
   "metadata": {},
   "source": [
    "## Summary Bar Graph"
   ]
  },
  {
   "cell_type": "code",
   "execution_count": 14,
   "metadata": {},
   "outputs": [],
   "source": [
    "# Calculate the percent changes for each drug\n",
    "tumor_percentage_change = (mean_tumor_pivot.iloc[-1] - mean_tumor_pivot.iloc[0])/mean_tumor_pivot.iloc[0] *100"
   ]
  },
  {
   "cell_type": "code",
   "execution_count": 47,
   "metadata": {},
   "outputs": [
    {
     "data": {
      "text/html": [
       "<div>\n",
       "<style scoped>\n",
       "    .dataframe tbody tr th:only-of-type {\n",
       "        vertical-align: middle;\n",
       "    }\n",
       "\n",
       "    .dataframe tbody tr th {\n",
       "        vertical-align: top;\n",
       "    }\n",
       "\n",
       "    .dataframe thead th {\n",
       "        text-align: right;\n",
       "    }\n",
       "</style>\n",
       "<table border=\"1\" class=\"dataframe\">\n",
       "  <thead>\n",
       "    <tr style=\"text-align: right;\">\n",
       "      <th></th>\n",
       "      <th>Percentage Change</th>\n",
       "    </tr>\n",
       "    <tr>\n",
       "      <th>Drug</th>\n",
       "      <th></th>\n",
       "    </tr>\n",
       "  </thead>\n",
       "  <tbody>\n",
       "    <tr>\n",
       "      <th>Capomulin</th>\n",
       "      <td>-19.475303</td>\n",
       "    </tr>\n",
       "    <tr>\n",
       "      <th>Infubinol</th>\n",
       "      <td>46.123472</td>\n",
       "    </tr>\n",
       "    <tr>\n",
       "      <th>Ketapril</th>\n",
       "      <td>57.028795</td>\n",
       "    </tr>\n",
       "    <tr>\n",
       "      <th>Placebo</th>\n",
       "      <td>51.297960</td>\n",
       "    </tr>\n",
       "  </tbody>\n",
       "</table>\n",
       "</div>"
      ],
      "text/plain": [
       "           Percentage Change\n",
       "Drug                        \n",
       "Capomulin         -19.475303\n",
       "Infubinol          46.123472\n",
       "Ketapril           57.028795\n",
       "Placebo            51.297960"
      ]
     },
     "execution_count": 47,
     "metadata": {},
     "output_type": "execute_result"
    }
   ],
   "source": [
    "percent_change = pd.DataFrame(tumor_percentage_change)\n",
    "percent_change = percent_change.iloc[[0,2,3,5]]\n",
    "percent_change.reset_index(inplace=False)\n",
    "percent_change.unstack()\n",
    "percent_change.rename(columns={0:'Percentage Change'}, inplace=True)\n",
    "percent_change\n",
    "# percent_change_unstacked = pd.DataFrame(percent_change)\n",
    "# percent_change_unstacked\n",
    "# percent_change.rename(columns={'': 'Percentage Change'})\n",
    "# percent_change\n",
    "# change the name of this column...why isnt this working"
   ]
  },
  {
   "cell_type": "code",
   "execution_count": 48,
   "metadata": {},
   "outputs": [
    {
     "data": {
      "text/plain": [
       "<matplotlib.legend.Legend at 0x11938e0f0>"
      ]
     },
     "execution_count": 48,
     "metadata": {},
     "output_type": "execute_result"
    },
    {
     "data": {
      "image/png": "[encoded data removed]",
      "text/plain": [
       "<Figure size 432x288 with 1 Axes>"
      ]
     },
     "metadata": {
      "needs_background": "light"
     },
     "output_type": "display_data"
    }
   ],
   "source": [
    "percent_change.plot(kind=\"bar\", title=\"Drug Summary\", label=\"Drug\")\n",
    "plt.grid()\n",
    "plt.tight_layout()\n",
    "plt.ylabel('%Percentage Change')\n",
    "plt.legend(loc=\"best\")"
   ]
  },
  {
   "cell_type": "code",
   "execution_count": null,
   "metadata": {},
   "outputs": [],
   "source": []
  },
  {
   "cell_type": "code",
   "execution_count": null,
   "metadata": {},
   "outputs": [],
   "source": []
  }
 ],
 "metadata": {
  "anaconda-cloud": {},
  "kernelspec": {
   "display_name": "PythonData",
   "language": "python",
   "name": "pythondata"
  },
  "language_info": {
   "codemirror_mode": {
    "name": "ipython",
    "version": 3
   },
   "file_extension": ".py",
   "mimetype": "text/x-python",
   "name": "python",
   "nbconvert_exporter": "python",
   "pygments_lexer": "ipython3",
   "version": "3.6.9"
  }
 },
 "nbformat": 4,
 "nbformat_minor": 1
}
